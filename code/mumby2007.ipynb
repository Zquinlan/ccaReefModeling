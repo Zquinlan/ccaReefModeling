{
 "cells": [
  {
   "cell_type": "code",
   "execution_count": 1,
   "metadata": {},
   "outputs": [],
   "source": [
    "import numpy as np\n",
    "import matplotlib.pyplot as plt\n",
    "from matplotlib import rc\n",
    "import seaborn as sns\n",
    "import pandas as pd\n",
    "from scipy import stats\n",
    "from scipy.optimize import curve_fit\n",
    "from scipy.integrate import odeint\n",
    "from scipy.integrate import solve_ivp"
   ]
  },
  {
   "cell_type": "markdown",
   "metadata": {},
   "source": [
    "# These equations are based on Mumby et al. (2007) with the Grazing rate from McManus et al., 2023"
   ]
  },
  {
   "cell_type": "markdown",
   "metadata": {},
   "source": [
    "## Parameters"
   ]
  },
  {
   "cell_type": "code",
   "execution_count": 2,
   "metadata": {},
   "outputs": [],
   "source": [
    "#Define a function to calculate the derivative\n",
    "r = 0.2 #coral growth rate\n",
    "a = 0.3 #algal overgrowth onto corals\n",
    "# mu = 0.04 #coral background mortality\n",
    "gamma = 0.7 #algal growth rate\n",
    "g0 = 0.2 #minimum grazing rate\n",
    "g1 = 1 #maximum grazing rate\n",
    "\n",
    "\n",
    "\n",
    "time_steps = 1000 #no. of time steps\n",
    "start = 0 \n",
    "stop = 1000\n",
    "time_points = np.linspace(start, stop, time_steps+1)"
   ]
  },
  {
   "cell_type": "code",
   "execution_count": 9,
   "metadata": {},
   "outputs": [],
   "source": [
    "def dNdt(C,M,P):\n",
    "    \n",
    "    dt = P['dt']\n",
    "    mu = P['mu']\n",
    "\n",
    "\n",
    "    #! Calculate the derivative\n",
    "    gM = (g0 + (g1 - g0)*(C**0.5))*M\n",
    "\n",
    "    dC = (r*C*(1-C-M) - a*C*M - mu*C) * dt #Coral equation\n",
    "    dM = (gamma*M*(1-C-M) + a*C*M - gM) * dt #Macroalgae equation\n",
    "\n",
    "    return dC, dM"
   ]
  },
  {
   "cell_type": "markdown",
   "metadata": {},
   "source": [
    "### 4th order Runge-Kutta method"
   ]
  },
  {
   "cell_type": "code",
   "execution_count": 4,
   "metadata": {},
   "outputs": [],
   "source": [
    "def RK4(C, M, P): #4th-order Runge-Kutta\n",
    "    # Initial values\n",
    "    C_init = C\n",
    "    M_init = M\n",
    "\n",
    "    # Step 1\n",
    "    k1_C, k1_M = dNdt(C, M, P)\n",
    "\n",
    "    # Step 2\n",
    "    C1 = C + 0.5 * k1_C\n",
    "    M1 = M + 0.5 * k1_M\n",
    "    \n",
    "    k2_C, k2_M= dNdt(C1, M1, P)\n",
    "\n",
    "    # Step 3\n",
    "    C2 = C + 0.5 * k2_C\n",
    "    M2 = M + 0.5 * k2_M\n",
    "\n",
    "    k3_C, k3_M = dNdt(C2, M2, P)\n",
    "\n",
    "    # Step 4\n",
    "    C3 = C + k3_C\n",
    "    M3 = M + k3_M\n",
    "    k4_C, k4_M = dNdt(C3, M3, P)\n",
    "\n",
    "    # Calculate weighted average\n",
    "    dC = (k1_C + 2 * k2_C + 2 * k3_C + k4_C) / 6\n",
    "    dM = (k1_M + 2 * k2_M + 2 * k3_M + k4_M) / 6\n",
    "\n",
    "\n",
    "    # Update values\n",
    "    C = C_init + dC\n",
    "    M = M_init + dM\n",
    "\n",
    "    return C, M"
   ]
  },
  {
   "cell_type": "code",
   "execution_count": 5,
   "metadata": {},
   "outputs": [],
   "source": [
    "def run_model(INIT_C, INIT_M, P):\n",
    "   \n",
    "    NUMYEARS = P['NUMYEARS']\n",
    "    \n",
    "    C = np.zeros((NUMYEARS+1))\n",
    "    M = np.zeros((NUMYEARS+1))\n",
    "    \n",
    "    C[0] = INIT_C\n",
    "    M[0] = INIT_M\n",
    "    \n",
    "    for year in np.arange(0,NUMYEARS):\n",
    "        C[year+1],M[year+1] = RK4(C[year],M[year],P)\n",
    "    \n",
    "    return C, M"
   ]
  },
  {
   "cell_type": "code",
   "execution_count": 6,
   "metadata": {},
   "outputs": [],
   "source": [
    "dt = 1 # time step (year)\n",
    "NUMSTEPS = 1000\n",
    "NUMYEARS = int(NUMSTEPS/dt)\n",
    "\n",
    "# set initial conditions for C0 and M0\n",
    "C0 = 0.2\n",
    "M0 = 0.2\n"
   ]
  },
  {
   "cell_type": "code",
   "execution_count": 10,
   "metadata": {},
   "outputs": [],
   "source": [
    "muSteps= 0.005\n",
    "mu0 = 0.01\n",
    "muMax = 0.2\n",
    "\n",
    "# Create a dictionary object\n",
    "parameterDictionary = {'dt':dt,\n",
    "                    'NUMSTEPS': NUMSTEPS, \n",
    "                    'NUMYEARS': NUMYEARS, \n",
    "                    'r': r, \n",
    "                    'a': a,\n",
    "                    'mu': muMax,\n",
    "                    'gamma': gamma,\n",
    "                    'g0': g0,\n",
    "                    'g1': g1\n",
    "                    }\n",
    "\n",
    "\n",
    "muPerms = int((muMax-mu0)/muSteps)\n",
    "simulations = pd.DataFrame({ 'mu' : [],\n",
    "                            'c0' : [],\n",
    "                            'm0' : [],\n",
    "                            'cEnd' : [],\n",
    "                            'mEnd' : []})\n",
    "\n",
    "for t in np.linspace(mu0, muMax, muPerms):\n",
    "    parameterDictionary['mu'] = t\n",
    "    for c in [0.01, 0.05, 0.45, 0.75]:\n",
    "        for m in [0.01, 0.05, 0.45, 0.75]:\n",
    "            \n",
    "            C_array, M_array = run_model(c, m, parameterDictionary)\n",
    "            dfTemp = pd.DataFrame({\n",
    "                                'mu' : [t],\n",
    "                                'c0' : [c],\n",
    "                                'm0' : [m],\n",
    "                                'cEnd' : [C_array[-1]],\n",
    "                                'mEnd' : [M_array[-1]]})\n",
    "\n",
    "            simulations = pd.concat([simulations, dfTemp], ignore_index = True)\n",
    "                                    \n",
    "                                                \n",
    "\n",
    "# df = pd.concat(simulations, ignore_index=True)\n",
    "simulations.to_csv('mumbyIncreasingMortality.csv')"
   ]
  },
  {
   "cell_type": "code",
   "execution_count": null,
   "metadata": {},
   "outputs": [],
   "source": []
  }
 ],
 "metadata": {
  "kernelspec": {
   "display_name": "Python 3",
   "language": "python",
   "name": "python3"
  },
  "language_info": {
   "codemirror_mode": {
    "name": "ipython",
    "version": 3
   },
   "file_extension": ".py",
   "mimetype": "text/x-python",
   "name": "python",
   "nbconvert_exporter": "python",
   "pygments_lexer": "ipython3",
   "version": "3.7.4"
  }
 },
 "nbformat": 4,
 "nbformat_minor": 4
}
